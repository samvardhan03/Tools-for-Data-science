{
 "cells": [
  {
   "cell_type": "markdown",
   "id": "a6822c5d",
   "metadata": {},
   "source": [
    "Tools for Data science (peer graded assignment)"
   ]
  },
  {
   "cell_type": "markdown",
   "id": "82acf9be",
   "metadata": {},
   "source": [
    "Introduction: \n",
    "This is the peer graded assignment for the 'Tools for Data Science' by IBM"
   ]
  },
  {
   "cell_type": "markdown",
   "id": "28e7ae51",
   "metadata": {},
   "source": [
    "Data Science Languages:\n",
    "1. Python\n",
    "2. R\n",
    "3. SQL\n",
    "4. Java\n",
    "5. Julia\n",
    "6. Scala\n",
    "7. C/C++\n",
    "8. JavaScript\n",
    "9. Swift\n",
    "10. Go\n",
    "11. MATLAB\n",
    "12. SAS\n"
   ]
  },
  {
   "cell_type": "markdown",
   "id": "46e3302c",
   "metadata": {},
   "source": [
    "Data Science Libraries:\n",
    "1. TensorFlow\n",
    "2. NumPy\n",
    "3. SciPy \n",
    "4. Pandas\n",
    "5. Matplotlib \n",
    "6. Keras\n",
    "7. SciKit-Learn\n",
    "8. PyTorch\n",
    "9. Scrapy\n",
    "10. BeautifulSoup\n",
    "11. LightGBM"
   ]
  },
  {
   "cell_type": "markdown",
   "id": "b24ddf08",
   "metadata": {},
   "source": [
    "Table of Data Science tools:\n",
    "1. Apache Hadoop\n",
    "2. Apache Spark\n",
    "3. Excel\n",
    "4. ggplot\n",
    "5. D3.js\n",
    "6. Tableau\n",
    "7. BigML"
   ]
  },
  {
   "cell_type": "markdown",
   "id": "f22527a2",
   "metadata": {},
   "source": [
    "We'll be evaluating different arithmatic operations:\n",
    "example:"
   ]
  },
  {
   "cell_type": "code",
   "execution_count": 1,
   "id": "a402e826",
   "metadata": {},
   "outputs": [
    {
     "data": {
      "text/plain": [
       "16.0"
      ]
     },
     "execution_count": 1,
     "metadata": {},
     "output_type": "execute_result"
    }
   ],
   "source": [
    "80/5"
   ]
  },
  {
   "cell_type": "code",
   "execution_count": 3,
   "id": "0f11f5a9",
   "metadata": {},
   "outputs": [
    {
     "name": "stdout",
     "output_type": "stream",
     "text": [
      "Product: 35\n",
      "Sum: 12\n"
     ]
    }
   ],
   "source": [
    "#code cell to multiply and add numbers\n",
    "# Assign two numbers to variables\n",
    "num1 = 5\n",
    "num2 = 7\n",
    "\n",
    "# Multiply the two numbers and assign the result to a variable\n",
    "product = num1 * num2\n",
    "\n",
    "# Add the two numbers and assign the result to a variable\n",
    "sum = num1 + num2\n",
    "\n",
    "# Print the results\n",
    "print(\"Product:\", product)\n",
    "print(\"Sum:\", sum)\n"
   ]
  },
  {
   "cell_type": "code",
   "execution_count": 5,
   "id": "fa880df5",
   "metadata": {},
   "outputs": [
    {
     "name": "stdout",
     "output_type": "stream",
     "text": [
      "135 minutes is equal to 2.25 hours\n"
     ]
    }
   ],
   "source": [
    "#code to convert minutes to hours.\n",
    "# Get the number of minutes\n",
    "minutes = 135\n",
    "\n",
    "# Convert minutes to hours\n",
    "hours = minutes / 60\n",
    "\n",
    "# Print the results\n",
    "print(\"{} minutes is equal to {} hours\".format(minutes, hours))"
   ]
  },
  {
   "cell_type": "markdown",
   "id": "0f7d712e",
   "metadata": {},
   "source": [
    "Objectives of the tools for data science:\n",
    "The tools for data science are for analyzing data, creating aesthetic and interactive visualizations and creating powerful predictive models using machine learning algorithms. Most of the data science tools deliver complex data science operations in one place.\n"
   ]
  },
  {
   "cell_type": "markdown",
   "id": "c9c69002",
   "metadata": {},
   "source": [
    "Authors's name :\n",
    "Samvardhan  Singh"
   ]
  }
 ],
 "metadata": {
  "kernelspec": {
   "display_name": "Python 3 (ipykernel)",
   "language": "python",
   "name": "python3"
  },
  "language_info": {
   "codemirror_mode": {
    "name": "ipython",
    "version": 3
   },
   "file_extension": ".py",
   "mimetype": "text/x-python",
   "name": "python",
   "nbconvert_exporter": "python",
   "pygments_lexer": "ipython3",
   "version": "3.9.16"
  }
 },
 "nbformat": 4,
 "nbformat_minor": 5
}
